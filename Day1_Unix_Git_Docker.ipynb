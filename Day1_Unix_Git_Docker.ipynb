{
 "cells": [
  {
   "cell_type": "markdown",
   "metadata": {},
   "source": [
    "# Preliminary Task\n",
    "\n",
    "I guess you could call this the `bootstrapping` section of the bootcamp. lolz\n",
    "\n",
    "Go to www.github.com/vanvalenlab/intro-to-deepcell and open up `Day1_Unix_Git_Docker.ipynb` inside a Jupyter Notebook.\n",
    "\n",
    "Alternatively, if you already feel comfortable doing so, you can clone the git repository on your machine and upon up the file from there."
   ]
  },
  {
   "cell_type": "markdown",
   "metadata": {},
   "source": [
    "# Unix basics"
   ]
  },
  {
   "cell_type": "markdown",
   "metadata": {},
   "source": [
    "### Dialing into a remote server\n",
    "\n",
    "Let's first get onto one of the Van Valen Lab's remote servers. If you don't know your username or the IP address of the server you're supposed to login to, one of the lab members can help you.\n",
    "\n",
    "Windows users, use PuTTY to login to your server.\n",
    "\n",
    "Linux and Mac users, put the following command in a terminal:\n",
    "```bash\n",
    "ssh -X -p 5078 [your_username]@[server_ip_address]\n",
    "```\n",
    "\n"
   ]
  },
  {
   "cell_type": "markdown",
   "metadata": {},
   "source": [
    "### Directory Navigation\n",
    "\n",
    "* List all files in current directory:  \n",
    "```bash\n",
    "ls\n",
    "```\n",
    "\n",
    "\n",
    "* Changing directory:  \n",
    "```bash\n",
    "cd [new_directory]\n",
    "```\n",
    "\n",
    "\n",
    "* Show name of current directory:  \n",
    "```bash\n",
    "pwd\n",
    "```"
   ]
  },
  {
   "cell_type": "markdown",
   "metadata": {},
   "source": [
    "### File Manipulation\n",
    "\n",
    "* Copy a file:  \n",
    "```bash\n",
    "cp [original_filename] [new_filename]\n",
    "```\n",
    "\n",
    "\n",
    "* Make a new directory:\n",
    "```bash\n",
    "mkdir [directoy_name]\n",
    "```\n",
    "\n",
    "\n",
    "* Delete (remove) a file:\n",
    "```bash\n",
    "rm [filename]\n",
    "```\n",
    "\n",
    "\n",
    "* Delete (remove) a directory and all of its contents:\n",
    "```bash\n",
    "rm -r [directory_name]\n",
    "```\n",
    "\n",
    "\n",
    "* Change premissions of a file:\n",
    "```bash\n",
    "chmod [permissions] [filename]\n",
    "```\n",
    "\n",
    "\n",
    "* Change ownership of a file:\n",
    "```bash\n",
    "chown [username] [filename]\n",
    "```"
   ]
  },
  {
   "cell_type": "markdown",
   "metadata": {},
   "source": [
    "### Utilities\n",
    "\n",
    "* To run a shell script:\n",
    "```bash\n",
    "./[scriptname.sh]\n",
    "```\n",
    "If this command throws an erorr, it's likely because you have permission issues. (Use `chmod` and/or `chown` to fix this.)\n",
    "\n",
    "\n",
    "* To run a Python script:\n",
    "```bash\n",
    "python ./[scriptname.py]\n",
    "```\n",
    "Again, permission issues are a common source of error.\n",
    "\n",
    "\n",
    "* To view all of the commands you've recently used that contain a certain string:\n",
    "```bash\n",
    "history | grep [string]\n",
    "```\n",
    "\n",
    "\n",
    "* To download a file from the internet, you hwave two options:\n",
    "```bash\n",
    "wget [URL]\n",
    "curl [URL]\n",
    "```\n",
    "\n",
    "\n",
    "* To mount a remote filesystem on your computer:\n",
    "```bash\n",
    "sshfs -p 5078 [your_username]@[server_ip_address]:[remote_directory] [local_mount_directory]\n",
    "```\n",
    "Errors? Again, permissions first."
   ]
  },
  {
   "cell_type": "markdown",
   "metadata": {},
   "source": [
    "### Special Characters\n",
    "\n",
    "* `.` (a single dot) always represents the current directory. E.g., \n",
    "```bash\n",
    "ls .\n",
    "```\n",
    "lists all files in the current directory.\n",
    "\n",
    "* `..` (a pair of dots) always represents the parent directory of the current directory. E.g.,\n",
    "```bash\n",
    "ls ..\n",
    "```\n",
    "lists all files in the directory above the current directory.\n"
   ]
  },
  {
   "cell_type": "markdown",
   "metadata": {},
   "source": [
    "### Special Command\n",
    "\n",
    "If you're having permissions issues, you can prepend a given ocmmand with `sudo` and those pesky issues will almost certainly disappear. E.g., the following command will remove the entire filesystem on the remote server:\n",
    "```bash\n",
    "sudo rm -r /\n",
    "```\n",
    "\n",
    "WARNING! You can mess stuff up with `sudo`. We won't give you `sudo` privileges until you face a problem where you need them. At that point, come to us and we can give your account sudo privileges."
   ]
  },
  {
   "cell_type": "markdown",
   "metadata": {},
   "source": [
    "# Git tutorial"
   ]
  },
  {
   "cell_type": "markdown",
   "metadata": {},
   "source": [
    "Git is a ubiquitous tool is software development. It allows multiple coders to work on the same project simultaneously without having to worry about whether other coders' changes are affecting their own code.\n",
    "\n",
    "Everyone works on their own BRANCH. They then modify some files on their branch and ADD those changes. After they have made all the changes they desire, they COMMIT those changes and PUSH their commits back to the central git repository. (In our case, the central repository is located remotely at https://www.github.com/vanvalenlab/deepcell-tf,but in principle it could be located anywhere, even on your own machine.)"
   ]
  },
  {
   "cell_type": "markdown",
   "metadata": {},
   "source": [
    "### Step 0: Logging into a lab server?\n",
    "\n",
    "You don't HAVE to log into one of the Van Valen Lab's state-of-the-art GPU-enabled servers to do this Git tutorial. But, if you care to, the command to do so is:  \n",
    "```bash\n",
    "ssh -X -p 5078 [your_username]@[machine_ip_address]\n",
    "```"
   ]
  },
  {
   "cell_type": "markdown",
   "metadata": {},
   "source": [
    "### Step 1: Cloning a repository\n",
    "\n",
    "Navigate to a directory on your hard drive where you would like to keep code projects from our lab.\n",
    "\n",
    "Then, make a copy of the central repository:  \n",
    "```bash\n",
    "git clone www.github.com/vanvalenlab/deepcell-tf\n",
    "```\n",
    "\n",
    "That command should automatically place a copy of the entire repository inside your current directory."
   ]
  },
  {
   "cell_type": "markdown",
   "metadata": {},
   "source": [
    "### Step 2: Branches\n",
    "\n",
    "Now that you have the current state of the Deepcell project on your computer, let's switch to a `branch` that is designated for active working. Let's use the `student_bootcamp` branch.\n",
    "\n",
    "First, let's look at a list of all the pre-existing branches:  \n",
    "```bash\n",
    "cd ./deepcell-tf\n",
    "```  \n",
    "```bash\n",
    "git branch\n",
    "```\n",
    "\n",
    "Next, let's move to the `student_bootcamp` branch and then view the list of branches again:  \n",
    "```bash\n",
    "git checkout student_bootcamp\n",
    "```\n",
    "```bash\n",
    "git branch\n",
    "```\n",
    "\n",
    "Finally, let's start working on the new branch we just created and look at the list on last time:\n",
    "```bash\n",
    "git checkout [fanciful_branch_name]\n",
    "```\n",
    "```bash\n",
    "git branch\n",
    "```\n",
    "\n",
    "Now, any changes you make to the code will only affect this working branch.\n",
    "\n",
    "As a test exercise, let's all modify the file `resources/name_list.txt` and add our own names. Each of you should end up with a file that contains only your name and my name."
   ]
  },
  {
   "cell_type": "markdown",
   "metadata": {},
   "source": [
    "### Step 3: Adding, Committing, and Pushing\n",
    "\n",
    "Now that you've made a change, let's go through the formality of committing that change to the git repository.\n",
    "\n",
    "First, check git's status to view all the files which you've changed:  \n",
    "```bash\n",
    "git status\n",
    "```\n",
    "\n",
    "Next, for each file whose changes you want to keep, add that file to git's staging area:  \n",
    "```bash\n",
    "git add [filename]\n",
    "```  \n",
    "```bash\n",
    "git status\n",
    "```\n",
    "\n",
    "Now that all the changes you want to keep are in the staging area, let's commit them to your local repository, along with a pleasant note informing your future self of exactly what was running through your head when you made these edits:  \n",
    "```bash\n",
    "git commit -m [calm_informative_message]\n",
    "```  \n",
    "```bash\n",
    "git status\n",
    "```\n",
    "\n",
    "At this point, these changes only exist on your computer. No one else can see them, as they do not exist in the central repository. Eventually, though, we do want to inform everyone else on the team of our hard work. Let's do that now:  \n",
    "```bash\n",
    "git push\n",
    "```"
   ]
  },
  {
   "cell_type": "markdown",
   "metadata": {},
   "source": [
    "### Step 4: Staying updated\n",
    "\n",
    "If anyone has made changes to your branch since you created it, you can get access to all of their new changes by performing:  \n",
    "```bash\n",
    "git pull\n",
    "```"
   ]
  },
  {
   "cell_type": "markdown",
   "metadata": {},
   "source": [
    "### Step 5: Dealing with Merge conflicts\n",
    "\n",
    "By now, all of you (or maybe all but one?) of you should have gotten errors indicating that there is a conflict.\n",
    "\n",
    "Let's resolve this conflict."
   ]
  },
  {
   "cell_type": "markdown",
   "metadata": {},
   "source": [
    "### Step 6: Making a new branch\n",
    "\n",
    "Dealing with merge conflicts is... unpleasant. Let's do things the right way in order to minimize the likelihood of them cropping up.\n",
    "\n",
    "First, let's look at a list of all the pre-existing branches:  \n",
    "```bash\n",
    "cd ./deepcell-tf\n",
    "```  \n",
    "```bash\n",
    "git branch\n",
    "```\n",
    "\n",
    "Next, let's make our own branch and then view the list of branches again:  \n",
    "```bash\n",
    "git branch [fanciful_branch_name]\n",
    "```\n",
    "```bash\n",
    "git branch\n",
    "```\n",
    "\n",
    "Finally, let's start working on the new branch we just created and look at the list on last time:\n",
    "```bash\n",
    "git checkout [fanciful_branch_name]\n",
    "```\n",
    "```bash\n",
    "git branch\n",
    "```\n",
    "\n",
    "Now, any changes you make to the code will only exist within your branch. Go wild!"
   ]
  },
  {
   "cell_type": "markdown",
   "metadata": {},
   "source": [
    "### Step 7: Merging\n",
    "\n",
    "That's most of the workflow.\n",
    "\n",
    "Eventually, once you've finished working on whatever it is you created your branch for (adding a feature, fixing a bug, etc.), you'll merge your branch into the master branch, so that it's now part of the main codebase. Then, whenever other people create their own branches in the future, their branch will include the changes you just made. (To be clear, it's not a rule that everyone work in their own branch. In fact, it often happens that multiple people will be working on one branch at the same time.)\n",
    "\n",
    "We typically handle the merging process via the GitHub web interface by creating a pull request. Go to www.github.com/vanvalenlab/intro-to-deepcell, select your branch, then click \"Pull Request\".\n",
    "\n",
    "Once you have a pull request in, Will and probably someone else will have a code review with you. Given how critical and overbearing we all are, this should be a very painful process."
   ]
  },
  {
   "cell_type": "markdown",
   "metadata": {},
   "source": [
    "# Docker tutorial\n",
    "\n",
    "Docker is what you would get if your computer had a baby computer and that baby computer came preconfigured with SSH."
   ]
  },
  {
   "cell_type": "markdown",
   "metadata": {},
   "source": [
    "### Step 0: Logging into a lab server\n",
    "\n",
    "Remember earlier when you didn't HAVE to log into one of the Van Valen Lab's state-of-the-art GPU-enabled servers. Well, now you have to. The command to do so is:  \n",
    "```bash\n",
    "ssh -X -p 5078 [your_username]@[machine_ip_address]\n",
    "```"
   ]
  },
  {
   "cell_type": "markdown",
   "metadata": {},
   "source": [
    "### Step 1:  The Dockerfile\n",
    "\n",
    "A Dockerfile is a script that the `docker` program uses to create a Docker image. A Docker image is a snapshot of an operating system. (Think like someone copied your entire hard drive and saved it as a single file -- that's a Docker image.)\n",
    "\n",
    "Let's look at the Dockerfile associated with the `deepcell-tf` repository.\n",
    "\n",
    "Line 2:  \n",
    "```docker\n",
    "FROM nvcr.io/vvlab/tensorflow:18.04-py3\n",
    "```  \n",
    "This line starts us off with a standard Ubuntu Linux operating system, with tensorflow installed and GPU support built-in.\n",
    "\n",
    "The remainder of the file installs several necessary deep learning packages.\n",
    "\n",
    "For reference, the installation of Deepcell occurs on lines 25-31."
   ]
  },
  {
   "cell_type": "markdown",
   "metadata": {},
   "source": [
    "### Step 2: Creating a Docker image\n",
    "\n",
    "Now that we have a Dockerfile, a script describing a Docker image, we can build the Docker image itself, which will be nothing more than an entire file system, neatly stored as a single file.\n",
    "\n",
    "From within the `deepcell-tf` folder, build the Docker image by executing:  \n",
    "```bash\n",
    "docker build -t [your_username]/deepcell-tf:0.1 .\n",
    "```\n",
    "\n",
    "\n",
    "Explanations follow.\n",
    "\n",
    "`docker build` is the command to build a Docker image.\n",
    "\n",
    "`-t [your_username]/deepcell-tf:0.1` names your Docker image `[your_username]/deepcell-tf` and gives it a version number of `0.1`.\n",
    "\n",
    "The `.` at the end tells `docker build` where to look for a Docker file. `.` represents the current directory in  all Unix systems (Linux and Macs).\n",
    "\n",
    "So, you're telling `docker build` to use the Dockerfile in the current directory to build a Docker image, which it should name `[your_username]/deepcell-tf` and assign a version number of `0.1` to.\n",
    "\n",
    "\n",
    "To verify that everything went according to plan, execute `docker images` to view all Docker images. You should see one with your name and version number."
   ]
  },
  {
   "cell_type": "markdown",
   "metadata": {},
   "source": [
    "### Step 3: Launching a Docker container\n",
    "\n",
    "A Docker image is an entire operating system, including its entire filesystem, wrapped up in a single file. Now, we're going to breathe life into this dull file by running it inside a container, creating a completely isolated operating system running on your computer.\n",
    "\n",
    "To do this, execute:  \n",
    "```bash\n",
    "NV_GPU='[assigned_GPU_number]' nvidia-docker run -i -t -v [volume_location]:[mount_location] [dockerfile_location]\n",
    "```\n",
    "\n",
    "You should now be inside the Docker container. This is essentially a completely separate computer inside your computer. Anything that happens in magical Docker land stays in Docker land and doesn't affect your permanent filesystem."
   ]
  }
 ],
 "metadata": {
  "kernelspec": {
   "display_name": "Python 3",
   "language": "python",
   "name": "python3"
  },
  "language_info": {
   "codemirror_mode": {
    "name": "ipython",
    "version": 3
   },
   "file_extension": ".py",
   "mimetype": "text/x-python",
   "name": "python",
   "nbconvert_exporter": "python",
   "pygments_lexer": "ipython3",
   "version": "3.6.5"
  }
 },
 "nbformat": 4,
 "nbformat_minor": 2
}
