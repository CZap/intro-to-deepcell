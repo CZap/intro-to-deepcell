{
 "cells": [
  {
   "cell_type": "markdown",
   "metadata": {},
   "source": [
    "# Git"
   ]
  },
  {
   "cell_type": "markdown",
   "metadata": {},
   "source": [
    "Git is a ubiquitous tool is software development. It allows multiple coders to work on the same project simultaneously without having to worry about whether other coders' changes are affecting their own code.\n",
    "\n",
    "Everyone works on their own BRANCH. They then modify some files on their branch and ADD those changes. After they have made all the changes they desire, they COMMIT those changes and PUSH their commits back to the central git repository. (In our case, the central repository is located remotely at https://www.github.com/vanvalenlab/deepcell-tf,but in principle it could be located anywhere, even on your own machine.)"
   ]
  },
  {
   "cell_type": "markdown",
   "metadata": {},
   "source": [
    "### Step 0: Logging into a lab server?\n",
    "\n",
    "You don't HAVE to log into one of the Van Valen Lab's state-of-the-art GPU-enabled servers to do this Git tutorial. But, if you care to, the command to do so is:  \n",
    "`ssh -X -p 5078 [your_username]@[machine_ip_address]`"
   ]
  },
  {
   "cell_type": "markdown",
   "metadata": {},
   "source": [
    "### Step 1: Cloning a repository\n",
    "\n",
    "Navigate to a directory on your hard drive where you would like to keep code projects from our lab.\n",
    "\n",
    "Then, make a copy of the central repository:  \n",
    "`git clone www.github.com/vanvalenlab/deepcell-tf`\n",
    "\n",
    "That command should automatically place a copy of the entire repository inside your current directory."
   ]
  },
  {
   "cell_type": "markdown",
   "metadata": {},
   "source": [
    "### Step 2: Creating your own branch\n",
    "\n",
    "Now that you have the current state of the Deepcell project on your computer, make a new branch so that you can make your own changes to the codebase without interfering with anyone else's version of the code.\n",
    "\n",
    "First, let's look at a list of all the pre-existing branches:  \n",
    "`cd ./deepcell-tf`  \n",
    "`git branch`\n",
    "\n",
    "Next, let's make our own branch and then view the list of branches again:  \n",
    "`git branch [fanciful_branch_name]`\n",
    "`git branch`\n",
    "\n",
    "Finally, let's start working on the new branch we just created and look at the list on last time:\n",
    "`git checkout [fanciful_branch_name]`\n",
    "`git branch`\n",
    "\n",
    "Now any changes you make to the code will only exist within your branch. Go wild!"
   ]
  },
  {
   "cell_type": "markdown",
   "metadata": {},
   "source": [
    "### Step 3: Adding, Committing, and Pushing\n",
    "\n",
    "Now that you've made all the changes you could ever want, let's go through the formality of committing those changes to the git repository.\n",
    "\n",
    "First, check git's status to view all the files which you've changed:  \n",
    "`git status`\n",
    "\n",
    "Next, for each file whose changes you want to keep, add that file to git's staging area:  \n",
    "`git add [filename]`  \n",
    "`git status`\n",
    "\n",
    "Now that all the changes you want to keep are in the staging area, let's commit them to your local repository, along with a pleasant note informing your future self of exactly what was running through your head:  \n",
    "`git commit -m [calm_informative_message]`  \n",
    "`git status`\n",
    "\n",
    "At this point, these changes only exist on your computer. No one else can see them, as they do not exist in the central repository. Eventually, though, we do want to inform everyone else on the team of our hard work. Let's do that now:  \n",
    "`git push`"
   ]
  },
  {
   "cell_type": "markdown",
   "metadata": {},
   "source": [
    "### Step 4: Staying updated\n",
    "\n",
    "If anyone has made changes to the master branch since you created your branch, you can get access to all of their neat changes by performing:  \n",
    "`git pull`"
   ]
  },
  {
   "cell_type": "markdown",
   "metadata": {},
   "source": [
    "### Step 5: Merging\n",
    "\n",
    "That's most of the workflow.\n",
    "\n",
    "Eventually, once you've finished working on whatever it is you created your branch for (adding a feature, fixing a bug, etc.), you'll merge your branch into the master branch, so that it's now part of the main codebase. Then, whenever other people create their own branches in the future, their branch will include the changes you just made.\n",
    "\n",
    "We typically do that via the GitHub web interface by creating a pull request.\n",
    "\n",
    "In short, go to the github adress of this project's repository, (login, if needed,) choose your branch from the dropdown menu on the left, click \"Pull Request\", and fill out all the relevant fields. At some point, someone (probably Will) will sit down with you, go over your code, probably have a few rounds of back and forth with you, and then merge it into master.\n",
    "\n",
    "TADA! Done."
   ]
  },
  {
   "cell_type": "markdown",
   "metadata": {},
   "source": [
    "## Docker"
   ]
  },
  {
   "cell_type": "markdown",
   "metadata": {},
   "source": [
    "### Step 0: Logging into a lab server\n",
    "\n",
    "Remember earlier when you didn't HAVE to log into one of the Van Valen Lab's state-of-the-art GPU-enabled servers. Well, now you have to. The command to do so is:  \n",
    "`ssh -X -p 5078 [your_username]@[machine_ip_address]`"
   ]
  },
  {
   "cell_type": "markdown",
   "metadata": {},
   "source": [
    "### Step 1:  The Dockerfile\n",
    "\n",
    "A Dockerfile is a script that the `docker` program uses to create a Docker image. A Docker image is a snapshot of an operating system. (Think like someone copied your entire hard drive and saved it as a single file -- that's a Docker image.)\n",
    "\n",
    "Let's look at the Dockerfile associated with the `deepcell-tf` repository.\n",
    "\n",
    "Line 2:  \n",
    "`FROM nvcr.io/vvlab/tensorflow:18.04-py3`  \n",
    "This line starts us off with a standard Ubuntu Linux operating system, with tensorflow installed and GPU support built-in.\n",
    "\n",
    "The remainder of the file installs several necessary deep learning packages.\n",
    "\n",
    "For reference, the installation of Deepcell occurs on lines 25-31."
   ]
  },
  {
   "cell_type": "markdown",
   "metadata": {},
   "source": [
    "### Step 2: Creating a Docker image\n",
    "\n",
    "Now that we have a Dockerfile, a script describing a Docker image, we can build the Docker image itself, which will be nothing more than an entire file system, neatly stored as a single file.\n",
    "\n",
    "From within the `deepcell-tf` folder, build the Docker image by executing:  \n",
    "`docker build -t [your_username]/deepcell-tf:0.1 .`\n",
    "\n",
    "\n",
    "Explanations follow.\n",
    "\n",
    "`docker build` is the command to build a Docker image.\n",
    "\n",
    "`-t [your_username]/deepcell-tf:0.1` names your Docker image `[your_username]/deepcell-tf` and gives it a version number of `0.1`.\n",
    "\n",
    "The `.` at the end tells `docker build` where to look for a Docker file. `.` represents the current directory in  all Unix systems (Linux and Macs).\n",
    "\n",
    "So, you're telling `docker build` to use the Dockerfile in the current directory to build a Docker image, which it should name `[your_username]/deepcell-tf` and assign a version number of `0.1` to.\n",
    "\n",
    "\n",
    "To verify that everything went according to plan, execute `docker images` to view all Docker images. You should see one with your name and version number."
   ]
  },
  {
   "cell_type": "markdown",
   "metadata": {},
   "source": [
    "### Step 3: Launching a Docker container\n",
    "\n",
    "A Docker image is an entire operating system, including its entire filesystem, wrapped up in a single file. Now, we're going to breathe life into this dull file by running it inside a container, creating a completely isolated operating system running on your computer.\n",
    "\n",
    "To do this, execute:  \n",
    "`NV_GPU='[assigned_GPU_number]' nvidia-docker run -i -t -v [volume_location]:[mount_location] [dockerfile_location]`\n",
    "\n",
    "You should now be inside the Docker container. This is essentially a completely separate computer inside your computer. Anything that happens in magical Docker land stays in Docker land and doesn't affect your permanent filesystem."
   ]
  }
 ],
 "metadata": {
  "kernelspec": {
   "display_name": "Python 3",
   "language": "python",
   "name": "python3"
  },
  "language_info": {
   "codemirror_mode": {
    "name": "ipython",
    "version": 3
   },
   "file_extension": ".py",
   "mimetype": "text/x-python",
   "name": "python",
   "nbconvert_exporter": "python",
   "pygments_lexer": "ipython3",
   "version": "3.6.5"
  }
 },
 "nbformat": 4,
 "nbformat_minor": 2
}
